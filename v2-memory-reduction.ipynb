{
 "cells": [
  {
   "cell_type": "code",
   "execution_count": 1,
   "metadata": {},
   "outputs": [],
   "source": [
    "import numpy as np\n",
    "from numpy import array\n",
    "import tensorflow as tf\n",
    "from itertools import combinations"
   ]
  },
  {
   "cell_type": "code",
   "execution_count": 2,
   "metadata": {},
   "outputs": [],
   "source": [
    "def get_inputs_tensor_multiplied_by_transpose_permutations(group_dims_stack, group_size):\n",
    "    # We have the masked vectorised input rows as a N+1 dimensional tensor\n",
    "    # Now multiply by N - 1 tensors whose axes have been permuted (on all but 0th axis) \n",
    "    cross_multiplied_group_dims_stack = group_dims_stack\n",
    "    dims_list = list(range(1, group_size + 1))\n",
    "    perm_list = list(range(0, group_size))\n",
    "    L = len(dims_list)\n",
    "    for dim in dims_list[:-1]: #permutations(range(1,current_N + 1)):\n",
    "        perm = [0] + [((i + dim + L - 1) % L) + 1 for i in dims_list]\n",
    "#         perm = [0 if i == -1 else perm[i] for i in range(-1, len(perm))]\n",
    "        group_dims_stack_perm = tf.transpose(group_dims_stack, perm=perm)\n",
    "        #TODO: Test broadcasting always works when using same number of input rows as unique elements\n",
    "        cross_multiplied_group_dims_stack = tf.multiply(cross_multiplied_group_dims_stack, group_dims_stack_perm)\n",
    "    return cross_multiplied_group_dims_stack\n"
   ]
  },
  {
   "cell_type": "code",
   "execution_count": 3,
   "metadata": {
    "scrolled": false
   },
   "outputs": [],
   "source": [
    "from resources.v2.test_resources import expected_occluded_output_3d, input_occluded_output_3d\n",
    "\n",
    "def get_inputs_filtered_by_possible_combinations(group_dims_stack,\n",
    "                                                 num_remaining_els, \n",
    "                                                 group_size):\n",
    "    \"\"\"\n",
    "    group_dims_stack: the \n",
    "    current_els_mask: python binary list with allowed elements as 1.\n",
    "    \"\"\"\n",
    "    # possible_els_idxs -> [0,3,5,10] = 0th, 3rd etc els allowed.\n",
    "    possible_combinations_idxs = tf.py_func(lambda num_els: \n",
    "                                   np.array(list(combinations(range(0,num_els), group_size)), dtype=np.int32),\n",
    "                                   [num_remaining_els], tf.int32)\n",
    "    \n",
    "    mask_shape = tf.map_fn(lambda x: num_remaining_els, tf.Variable(list(range(group_size))))\n",
    "\n",
    "    values = tf.py_func(lambda perms: np.ones(len(perms), dtype=np.int32),\n",
    "                        [possible_combinations_idxs], tf.int32)\n",
    "    \n",
    "    allowed_combs = tf.sparse_to_dense(sparse_indices=possible_combinations_idxs, \n",
    "                                       output_shape=mask_shape,\n",
    "                                       sparse_values=values,)\n",
    "\n",
    "    return tf.multiply(allowed_combs, group_dims_stack)\n",
    " \n",
    "    \n",
    "def _test_get_diagonal_and_upper_zeroed_tensor(expected, group_dims_stack, current_els_mask, group_size):\n",
    "    init = tf.global_variables_initializer()\n",
    "    with tf.Session() as session:\n",
    "        session.run(init)\n",
    "        tensor = get_inputs_filtered_by_possible_combinations(group_dims_stack, current_els_mask, group_size)\n",
    "        result = session.run(tensor)\n",
    "#     print('Expected:')\n",
    "#     print(str(np.array(expected)))\n",
    "#     print('Output:')\n",
    "#     print(str(result))\n",
    "    assert np.array_equal(np.array(expected),np.array(result))\n",
    "\n",
    "_test_get_diagonal_and_upper_zeroed_tensor(expected_occluded_output_3d, input_occluded_output_3d, 5, 3)"
   ]
  },
  {
   "cell_type": "code",
   "execution_count": 4,
   "metadata": {
    "scrolled": false
   },
   "outputs": [],
   "source": [
    "def get_sparse_mask_matrix(current_mask):\n",
    "    def create_indices(mask):\n",
    "        positive_el_number = 0\n",
    "        indices = []\n",
    "        for i, v in enumerate(mask):\n",
    "            if v == 1:\n",
    "                indices.append([i,positive_el_number])\n",
    "                positive_el_number += 1\n",
    "        return np.array(indices, dtype=np.int32)\n",
    "    \n",
    "    indices = tf.py_func(create_indices, [current_mask], tf.int32)\n",
    "    number_of_remaining_elements = tf.cast(tf.divide(tf.size(indices),2), tf.int32)\n",
    "    values = tf.py_func(lambda _indices: np.ones(len(_indices), dtype=np.int32),\n",
    "                        [indices], tf.int32)\n",
    "    shape = tf.stack([tf.size(current_mask),number_of_remaining_elements])\n",
    "    mask_matrix = tf.sparse_to_dense(sparse_indices=indices, sparse_values=values, output_shape=shape)\n",
    "    return mask_matrix\n",
    "\n",
    "\n",
    "def _test_get_sparse_mask_matrix(curr_mask, expected_mask_matrix):\n",
    "    mask = get_sparse_mask_matrix(curr_mask)\n",
    "    init = tf.global_variables_initializer()\n",
    "    with tf.Session() as session:\n",
    "        session.run(init)\n",
    "        result = session.run(mask)\n",
    "    assert np.array_equal(result, expected_mask_matrix)\n",
    "#     return num_remaining\n",
    "\n",
    "test_current_mask = tf.constant([1,0,1,0,1], dtype=tf.int32)\n",
    "expected_mask_matrix = np.array([[1,0,0],\n",
    "                                 [0,0,0],\n",
    "                                 [0,1,0],\n",
    "                                 [0,0,0],\n",
    "                                 [0,0,1]])\n",
    "\n",
    "_test_get_sparse_mask_matrix(test_current_mask, expected_mask_matrix)"
   ]
  },
  {
   "cell_type": "code",
   "execution_count": 5,
   "metadata": {
    "scrolled": false
   },
   "outputs": [],
   "source": [
    "def reduce_input_columns_with_current_mask(input_rows, current_mask):\n",
    "    \"\"\"\n",
    "    First, construct the sparse matrix containing \n",
    "    \"\"\"\n",
    "    inputs_mask_matrix = get_sparse_mask_matrix(current_mask)\n",
    "    return tf.matmul(input_rows, inputs_mask_matrix)\n",
    "\n",
    "def _test_reduce_input_columns_with_current_mask(test_input_rows, test_current_mask, expected_reduced_inputs):\n",
    "    reduced_inputs = reduce_input_columns_with_current_mask(test_input_rows, test_current_mask)\n",
    "\n",
    "    init = tf.global_variables_initializer()\n",
    "    with tf.Session() as session:\n",
    "        session.run(init)\n",
    "        result = session.run(reduced_inputs)\n",
    "    assert np.array_equal(result, expected_reduced_inputs)\n",
    "#     return result\n",
    "\n",
    "test_inputs = tf.constant([[1,2,1,2,1],\n",
    "                           [1,2,0,2,1]])\n",
    "test_current_mask = tf.constant([1,0,1,0,1], dtype=tf.int32)\n",
    "expected_reduced_inputs = np.array([[1,1,1],\n",
    "                                    [1,0,1]])\n",
    "_test_reduce_input_columns_with_current_mask(test_inputs, test_current_mask, expected_reduced_inputs)"
   ]
  },
  {
   "cell_type": "code",
   "execution_count": null,
   "metadata": {},
   "outputs": [],
   "source": [
    "    "
   ]
  },
  {
   "cell_type": "code",
   "execution_count": 6,
   "metadata": {
    "scrolled": false
   },
   "outputs": [
    {
     "name": "stdout",
     "output_type": "stream",
     "text": [
      "[[1], [0]]\n"
     ]
    },
    {
     "data": {
      "text/plain": [
       "[1, 1, 1]"
      ]
     },
     "execution_count": 6,
     "metadata": {},
     "output_type": "execute_result"
    }
   ],
   "source": [
    "from resources.v2.test_resources import gc_2D_3El, input_group_count_t_2D_3El, expected_next_mask_from_2D_3El\n",
    "\n",
    "def get_next_element_mask(group_counts_t, gc):\n",
    "    \"\"\"\n",
    "    \n",
    "    TODO: instead, get the actual groups and do with regular python processing since it will be simpler\n",
    "    to find all subsets and create new mask based on the possible new sets\n",
    "    \n",
    "    TODO: rename to generate_next_mask or something\n",
    "    TODO: remove this and create get_next_mask_and_groups.input_collections_reduced with previous \n",
    "    next_frequent_bin_filter i.e. would be better to create next possible from combinations of current groups\n",
    "    e.g. if A,B,C and B,C,D are groups, but no size 3 group contains A and D, A,B,C,D should not be a possiblity\n",
    "    \"\"\"\n",
    "\n",
    "    group_counts_filter = tf.cast(group_counts_t >= gc[\"min_support\"], tf.int32)\n",
    "    next_el_occurances = tf.multiply(group_counts_filter, group_counts_t)\n",
    "\n",
    "    \n",
    "    ONE = tf.constant(1, dtype=tf.int32)\n",
    "    ZERO = tf.constant(0, dtype=tf.int32)\n",
    "    output_mask = tf.zeros(gc[\"num_remaining_els\"], dtype=tf.int32)\n",
    "    dims_list = list(range(0, gc[\"current_N\"]))\n",
    "    dim_skips_list = [[d for d in dims_list if d != skip_d] for skip_d in dims_list]\n",
    "    print(dim_skips_list)\n",
    "    for dims in dim_skips_list:\n",
    "        output_mask = tf.add(output_mask, tf.reduce_sum(group_counts_t, dims))\n",
    "        \n",
    "    return tf.unstack(tf.map_fn(lambda x: tf.cond(x >= ONE, true_fn=lambda: ONE, false_fn=lambda: ZERO),\n",
    "                                output_mask, dtype=tf.int32))\n",
    "\n",
    "\n",
    "def _test_get_next_element_mask(group_count_t, gc, expected_mask):\n",
    "    next_mask = get_next_element_mask(group_count_t,gc)\n",
    "    init = tf.global_variables_initializer()\n",
    "    with tf.Session() as session:\n",
    "        session.run(init)\n",
    "        result = session.run(next_mask)\n",
    "    \n",
    "#     assert np.array_equal(result, expected_mask)\n",
    "    return result\n",
    "\n",
    "_test_get_next_element_mask(input_group_count_t_2D_3El, gc_2D_3El, expected_next_mask_from_2D_3El)"
   ]
  },
  {
   "cell_type": "code",
   "execution_count": 9,
   "metadata": {
    "scrolled": false
   },
   "outputs": [
    {
     "name": "stdout",
     "output_type": "stream",
     "text": [
      "Get_next_mask_and_groups for group size 3\n"
     ]
    },
    {
     "data": {
      "text/plain": [
       "array([[[0, 0, 0],\n",
       "        [0, 0, 3],\n",
       "        [0, 0, 0]],\n",
       "\n",
       "       [[0, 0, 0],\n",
       "        [0, 0, 0],\n",
       "        [0, 0, 0]],\n",
       "\n",
       "       [[0, 0, 0],\n",
       "        [0, 0, 0],\n",
       "        [0, 0, 0]]], dtype=int32)"
      ]
     },
     "execution_count": 9,
     "metadata": {},
     "output_type": "execute_result"
    }
   ],
   "source": [
    "def get_next_mask_and_groups(gc):\n",
    "    \"\"\"\n",
    "    Produces the next 'mask' and 'groups'\n",
    "    mask: the binarised original element vector, 1 representing \"element can still be found in groups\" and\n",
    "          0 representing \"element no longer found in groups\"\n",
    "    groups: the set of elements (set size = gc[\"current_N\"]) that are found the current group size\n",
    "\n",
    "    current_N:\n",
    "    The dimension that is currently being created i.e. the new mask will be this large and the full count \n",
    "    representation tensor will be order N+1\n",
    "    \n",
    "    TODO: Instead of re-creating the full \"possible groups for all inputs\" (possible-groups) tensor, instead use \n",
    "          the current mask to remove any elements (basis vectors / columns in each dimension) from the previous \n",
    "          possible-groups, followed by adding a new dimension \n",
    "    \"\"\"\n",
    "\n",
    "    print(f\"Get_next_mask_and_groups for group size {gc['current_N']}\")\n",
    "    \n",
    "    input_collections_reduced = reduce_input_columns_with_current_mask(gc[\"input_rows\"], \n",
    "                                                                       gc[\"curr_bin_mask\"])\n",
    "    dim_to_append = input_collections_reduced\n",
    "    for d in range(2, gc[\"current_N\"]+1):        \n",
    "        group_dims_stack = tf.stack([dim_to_append for _ in range(0, gc[\"num_remaining_els\"])], axis=-1)\n",
    "        traspose_multiplied_stack = get_inputs_tensor_multiplied_by_transpose_permutations(group_dims_stack, d)\n",
    "        dim_to_append = traspose_multiplied_stack\n",
    "        \n",
    "    filtered_counts_tensor = get_inputs_filtered_by_possible_combinations(traspose_multiplied_stack,\n",
    "                                                                          gc[\"num_remaining_els\"],\n",
    "                                                                          gc[\"current_N\"])\n",
    "    \n",
    "    group_counts_t = tf.reduce_sum(filtered_counts_tensor, axis=0)\n",
    "    \n",
    "    with tf.Session() as session:\n",
    "        init = tf.global_variables_initializer()\n",
    "        session.run(init)\n",
    "        group_counts_array = session.run(group_counts_t)\n",
    "    \n",
    "    \n",
    "            \n",
    "#     next_frequent_bin_mask = get_group_count_tensor_reduced_to_1D(next_frequent_bin_filter, \n",
    "#                                                                   gc[\"num_original_els\"],\n",
    "#                                                                   gc[\"current_N\"])\n",
    "    \n",
    "    # TODO: return next_frequent_bin_mask for next iter and next_el_occurances and gc[\"curr_bin_mask\"] as output\n",
    "    return group_counts_array\n",
    "    \n",
    "\n",
    "def test_get_next_mask_and_groups(gc):\n",
    "    \n",
    "    return get_next_mask_and_groups(gc)\n",
    "    \n",
    "original_input_els = ['A','B','C','D','E']\n",
    "vectorised_inputs_stack_2 = tf.Variable([[1,1,1,1,0],\n",
    "                                         [1,1,1,1,1], \n",
    "                                         [0,1,1,1,0]], tf.int32)\n",
    "frequent_bin_mask_2 = tf.Variable([0,1,1,1,0], tf.int32)\n",
    "\n",
    "input_3_5 = {\n",
    "    \"current_N\": 3,\n",
    "    \"original_els\": original_input_els, \n",
    "    \"num_original_els\": 5,\n",
    "    \"input_rows\": vectorised_inputs_stack_2,\n",
    "    \"num_input_rows\": 3,\n",
    "    \"curr_bin_mask\": frequent_bin_mask_2,\n",
    "    \"num_remaining_els\": 3,\n",
    "    \"curr_group_count_totals\": [], \n",
    "    \"min_support\": 2\n",
    "}\n",
    "results = test_get_next_mask_and_groups(input_3_5)\n",
    "\n",
    "results"
   ]
  },
  {
   "cell_type": "code",
   "execution_count": null,
   "metadata": {},
   "outputs": [],
   "source": []
  }
 ],
 "metadata": {
  "kernelspec": {
   "display_name": "Python 3",
   "language": "python",
   "name": "python3"
  },
  "language_info": {
   "codemirror_mode": {
    "name": "ipython",
    "version": 3
   },
   "file_extension": ".py",
   "mimetype": "text/x-python",
   "name": "python",
   "nbconvert_exporter": "python",
   "pygments_lexer": "ipython3",
   "version": "3.6.4"
  }
 },
 "nbformat": 4,
 "nbformat_minor": 2
}
